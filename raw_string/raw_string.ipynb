{
 "cells": [
  {
   "cell_type": "markdown",
   "id": "fb35ee72",
   "metadata": {},
   "source": [
    "# biểu thúc chính quy\n",
    "- \\w: biểu thị cho số chữ\n",
    "- \\b: biểu thị cho giới hạn số từ\n",
    "- "
   ]
  },
  {
   "cell_type": "code",
   "execution_count": 10,
   "id": "0ea66e5a",
   "metadata": {},
   "outputs": [
    {
     "name": "stdout",
     "output_type": "stream",
     "text": [
      "12345\n"
     ]
    }
   ],
   "source": [
    "import re # thư viện sử lý string \n",
    "\n",
    "log = \"July 31 07:51:48 mycomputer bad_process[12345]: ERROR Performing packageup grade\"\n",
    "\n",
    "regex = r\"\\[(\\d+)\\]\"\n",
    "\n",
    "result = re.search(regex, log)\n",
    "\n",
    "print(result[1])"
   ]
  },
  {
   "cell_type": "markdown",
   "id": "d248eaec",
   "metadata": {},
   "source": [
    "Sau dấu \\[ là [ () đầu lấy ra số hoặc gạch dưới"
   ]
  },
  {
   "cell_type": "code",
   "execution_count": 11,
   "id": "f740f8ea",
   "metadata": {},
   "outputs": [
    {
     "name": "stdout",
     "output_type": "stream",
     "text": [
      "423423\n"
     ]
    }
   ],
   "source": [
    "result = re.search(regex, \"A completely different string that also has number [423423]\")\n",
    "\n",
    "print(result[1])"
   ]
  },
  {
   "cell_type": "markdown",
   "id": "a0c63ffe",
   "metadata": {},
   "source": [
    "thêm chức năng lấy Id hoặc PID\n"
   ]
  },
  {
   "cell_type": "code",
   "execution_count": 17,
   "id": "abb9f7a0",
   "metadata": {},
   "outputs": [],
   "source": [
    "def extract_pid(log_line):\n",
    "    regex = r\"\\[(\\d+)\\]\"\n",
    "    result = re.search(regex, log_line)\n",
    "    # ko tìm thấy thì trả về \"\"\n",
    "    if result is None: \n",
    "        return \"\"\n",
    "    return result[1]"
   ]
  },
  {
   "cell_type": "code",
   "execution_count": 18,
   "id": "bf1bc247",
   "metadata": {},
   "outputs": [
    {
     "name": "stdout",
     "output_type": "stream",
     "text": [
      "12345\n"
     ]
    }
   ],
   "source": [
    "print(extract_pid(log))"
   ]
  },
  {
   "cell_type": "code",
   "execution_count": 19,
   "id": "fc50dd2e",
   "metadata": {},
   "outputs": [
    {
     "name": "stdout",
     "output_type": "stream",
     "text": [
      "\n"
     ]
    }
   ],
   "source": [
    "print(extract_pid(\"99 elephants in a [cage]\"))"
   ]
  },
  {
   "cell_type": "markdown",
   "id": "6a385e26",
   "metadata": {},
   "source": [
    "Nó ko trả về gì\n"
   ]
  },
  {
   "cell_type": "markdown",
   "id": "fa7e6368",
   "metadata": {},
   "source": [
    "# Splitting and Replacing\n",
    "ví dụ chúng ta muốn chia 1 đoạn văn bản thành các câu riêng biệt để làm điều này chỉ cần thêm dấu ? !"
   ]
  },
  {
   "cell_type": "code",
   "execution_count": 20,
   "id": "d4b1f24e",
   "metadata": {},
   "outputs": [
    {
     "data": {
      "text/plain": [
       "['One sentence', ' Another one', ' And the last one', '']"
      ]
     },
     "execution_count": 20,
     "metadata": {},
     "output_type": "execute_result"
    }
   ],
   "source": [
    "re.split(r\"[.?!]\", \"One sentence. Another one? And the last one!\")"
   ]
  },
  {
   "cell_type": "markdown",
   "id": "6683a47a",
   "metadata": {},
   "source": [
    "tách đoạn dựa trên dấu . và dấu ? and !\n",
    "\n",
    "Đoạn này thêm dấu () vào thì nó tách luôn cả dấu , ."
   ]
  },
  {
   "cell_type": "code",
   "execution_count": 21,
   "id": "64016d79",
   "metadata": {},
   "outputs": [
    {
     "data": {
      "text/plain": [
       "['One sentence', '.', ' Another one', '?', ' And the last one', '!', '']"
      ]
     },
     "execution_count": 21,
     "metadata": {},
     "output_type": "execute_result"
    }
   ],
   "source": [
    "re.split(r\"([.?!])\", \"One sentence. Another one? And the last one!\")"
   ]
  },
  {
   "cell_type": "markdown",
   "id": "2bcbffcc",
   "metadata": {},
   "source": [
    "thay thế toàn bộ hoặc 1 phần của chúng cho 1 chuỗi khác nhau tương tự như replace in string\n",
    "\n"
   ]
  },
  {
   "cell_type": "code",
   "execution_count": 22,
   "id": "830bcffd",
   "metadata": {},
   "outputs": [
    {
     "data": {
      "text/plain": [
       "'Reveived an email for go_nuts95@mty.example.com'"
      ]
     },
     "execution_count": 22,
     "metadata": {},
     "output_type": "execute_result"
    }
   ],
   "source": [
    "re.sub(r\"[\\w.%+-]+ @[\\w.-]\", \"REDACTED\", \"Reveived an email for go_nuts95@mty.example.com\")"
   ]
  },
  {
   "cell_type": "code",
   "execution_count": 26,
   "id": "41858ef1",
   "metadata": {},
   "outputs": [
    {
     "data": {
      "text/plain": [
       "'Lovelace, Ada'"
      ]
     },
     "execution_count": 26,
     "metadata": {},
     "output_type": "execute_result"
    }
   ],
   "source": [
    "re.sub(r\"^([\\w .-]*), ([\\w] .-]*)$\" ,r\"\\2 \\1\", \"Lovelace, Ada\")"
   ]
  },
  {
   "cell_type": "markdown",
   "id": "48f98aa1",
   "metadata": {},
   "source": [
    "# giải thích câu lệnh trên:\n",
    "1 trước dấu , và 1 trước dấu ,\n",
    "\n",
    "sử dụng tham số thứ 2 r\"\\2 \\1\" để thay thế kết quả phù hợp \\2 là để bắt nhóm thứ 2 \\1 là nhóm bị bắt tương ứng\n",
    "\n",
    "Kiểu thay \\2 là \"\" và \\1 là \"\" vào sau và trước ,"
   ]
  },
  {
   "cell_type": "code",
   "execution_count": null,
   "id": "11f91271",
   "metadata": {},
   "outputs": [],
   "source": []
  }
 ],
 "metadata": {
  "kernelspec": {
   "display_name": "Python 3 (ipykernel)",
   "language": "python",
   "name": "python3"
  },
  "language_info": {
   "codemirror_mode": {
    "name": "ipython",
    "version": 3
   },
   "file_extension": ".py",
   "mimetype": "text/x-python",
   "name": "python",
   "nbconvert_exporter": "python",
   "pygments_lexer": "ipython3",
   "version": "3.9.13"
  }
 },
 "nbformat": 4,
 "nbformat_minor": 5
}
